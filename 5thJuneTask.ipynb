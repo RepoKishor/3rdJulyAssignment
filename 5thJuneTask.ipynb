{
 "cells": [
  {
   "cell_type": "code",
   "execution_count": 6,
   "id": "2d3d2b04",
   "metadata": {},
   "outputs": [
    {
     "name": "stdout",
     "output_type": "stream",
     "text": [
      "[2, 3, 5, 7, 11, 13, 17, 19, 23, 29, 31, 37, 41, 43, 47]\n",
      "[4, 6]\n"
     ]
    }
   ],
   "source": [
    "import logging as lg\n",
    "\n",
    "class Miscellaneous:\n",
    "    \n",
    "    def __init__(self, string):\n",
    "        self.string = string\n",
    "        \n",
    "    def logMyMessage(self,msg, filenm):\n",
    "        try:\n",
    "            lg.basicConfig(filename=filenm, level=lg.DEBUG, format=\"%(asctime)s %(levelname)s %(message)s\")\n",
    "            console_log=lg.StreamHandler()\n",
    "            console_log.setLevel(lg.INFO)\n",
    "            format = lg.Formatter(\"%(asctime)s %(levelname)s %(message)s\")\n",
    "            console_log.setFormatter(format)\n",
    "            lg.getLogger('').addHandler(console_log)\n",
    "            lg.debug(\"debug message:\"+msg)\n",
    "            lg.info(\"debug message:\"+msg)\n",
    "        except FileNotFoundError as e:\n",
    "            #lg.error(e)\n",
    "            logMyMessage(\"FilenoFoundError\",'app.log')\n",
    "        except Exception as ex:\n",
    "            logMyMessage(\"Some Other Exception\",'app.log')\n",
    "    \n",
    "    def getPrime(self,fr,to):\n",
    "        '''This method returns a list of prime numbers in the range of input numbers both included'''\n",
    "        li=[]\n",
    "        try:\n",
    "            for i in range (fr,to+1):\n",
    "                if i >1:\n",
    "                    for j in range(2,i):\n",
    "                        if (i%j) ==0:\n",
    "                            break\n",
    "                    else:\n",
    "                        li.append(i)\n",
    "        except IndexError as ie:\n",
    "            logMyMessage(\"IndexError\",'app.log')\n",
    "        except Exception as ex:\n",
    "            logMyMessage(\"SomeOther Exception\",'app.log')\n",
    "\n",
    "        return li\n",
    "           \n",
    "    def removeAtPosition(self,l,pos):\n",
    "        \"\"\"This method is equivalent to pop.\\n This method removes the element at the input position from the input list and returns the result list\"\"\"\n",
    "        count=0\n",
    "        try:\n",
    "            for i in l:\n",
    "                if count<pos:\n",
    "                    count+=1\n",
    "                else:\n",
    "                    break\n",
    "            l.remove(l[count])\n",
    "        except IndexError as ie:\n",
    "            logMyMessage(\"IndexError\",'app.log')\n",
    "        except Exception as ex:\n",
    "            logMyMessage(\"SomeOther Exception\",'app.log')\n",
    "    \n",
    "        return l\n",
    "    \n",
    "    def __str__(self):\n",
    "        return \"this class is for various manipulations on an input string\"\n",
    "\n",
    "\n",
    "    \n",
    "mis = Miscellaneous(\"Number operation class\")\n",
    "print(mis.getPrime(1,50))\n",
    "print(mis.removeAtPosition([4,5,6],1))"
   ]
  },
  {
   "cell_type": "code",
   "execution_count": null,
   "id": "406b8434",
   "metadata": {},
   "outputs": [],
   "source": []
  }
 ],
 "metadata": {
  "kernelspec": {
   "display_name": "Python 3 (ipykernel)",
   "language": "python",
   "name": "python3"
  },
  "language_info": {
   "codemirror_mode": {
    "name": "ipython",
    "version": 3
   },
   "file_extension": ".py",
   "mimetype": "text/x-python",
   "name": "python",
   "nbconvert_exporter": "python",
   "pygments_lexer": "ipython3",
   "version": "3.9.7"
  }
 },
 "nbformat": 4,
 "nbformat_minor": 5
}
